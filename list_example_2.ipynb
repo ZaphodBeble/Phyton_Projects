{
 "cells": [
  {
   "cell_type": "code",
   "execution_count": 4,
   "source": [
    "# Finding desired string values\r\n",
    "# Kullanıcıdan bir cümle alan ve cümle içerisinde geçen\r\n",
    "# sesli harflerin her birinden kaçar tane olduğunu çıktı\r\n",
    "# veren bir program yazınız.\r\n",
    "\r\n",
    "sentence = \"Sakla samani gelir zamani\".lower()\r\n",
    "vowels = \"aeıioöuü\"\r\n",
    "a={}\r\n",
    "for i in sentence:\r\n",
    "    if i in vowels:\r\n",
    "        if i not in a:\r\n",
    "            a[i] = 1\r\n",
    "        else:\r\n",
    "            a[i] = sentence.count(i)  \r\n",
    "print(a)"
   ],
   "outputs": [
    {
     "output_type": "stream",
     "name": "stdout",
     "text": [
      "{'a': 6, 'i': 3, 'e': 1}\n"
     ]
    }
   ],
   "metadata": {}
  },
  {
   "cell_type": "code",
   "execution_count": null,
   "source": [
    "text = input('Enter your text here : ').lower()\r\n",
    "vowels = ['a', 'e', 'u', 'i', 'ı','ö','ü','o']  # for only English characters\r\n",
    "dictt = {}\r\n",
    "for i in text:\r\n",
    "    if i in vowels:\r\n",
    "        if i not in dictt:\r\n",
    "            dictt[i] = 1\r\n",
    "        else:\r\n",
    "            dictt[i] += 1\r\n",
    "print('\\n'.join(\"{}: {}\".format(k, v) for k, v in dictt.items()))"
   ],
   "outputs": [],
   "metadata": {}
  },
  {
   "cell_type": "code",
   "execution_count": null,
   "source": [
    "sentence = input(\"Bir cümle yazınız: \").lower()\r\n",
    "vowels = [\"a\", \"e\", \"ı\",\"i\",\"o\", \"ö\", \"u\", \"ü\"]\r\n",
    "new_list = []\r\n",
    "result = {}\r\n",
    "for i in sentence:\r\n",
    "  if i in vowels:\r\n",
    "    new_list.append(i)\r\n",
    "for a in new_list:\r\n",
    "  result[a] = new_list.count(a)\r\n",
    "print(result)"
   ],
   "outputs": [],
   "metadata": {}
  }
 ],
 "metadata": {
  "orig_nbformat": 4,
  "language_info": {
   "mimetype": "text/x-python",
   "nbconvert_exporter": "python",
   "name": "python",
   "pygments_lexer": "ipython2",
   "version": "2.7.17",
   "file_extension": ".py",
   "codemirror_mode": {
    "version": 2,
    "name": "ipython"
   }
  },
  "kernelspec": {
   "name": "python3",
   "display_name": "Python 2.7.17 64-bit"
  },
  "interpreter": {
   "hash": "5c3b02fa24688d32a1d09351b7f8eac82a87272ad081601c73caead00a8e1fc4"
  }
 },
 "nbformat": 4,
 "nbformat_minor": 2
}