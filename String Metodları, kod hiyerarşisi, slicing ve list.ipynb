{
 "cells": [
  {
   "cell_type": "code",
   "execution_count": 3,
   "source": [
    "str = \"Python Software Foundation\"\r\n",
    "s = str.split()\r\n",
    "print(s)\r\n",
    "s = sorted(s)\r\n",
    "print(s)\r\n",
    "s = \" \".join(s)\r\n",
    "print(s)\r\n",
    "print(s[2:5])"
   ],
   "outputs": [
    {
     "output_type": "stream",
     "name": "stdout",
     "text": [
      "['Python', 'Software', 'Foundation']\n",
      "['Foundation', 'Python', 'Software']\n",
      "Foundation Python Software\n",
      "und\n"
     ]
    }
   ],
   "metadata": {}
  }
 ],
 "metadata": {
  "orig_nbformat": 4,
  "language_info": {
   "mimetype": "text/x-python",
   "nbconvert_exporter": "python",
   "name": "python",
   "pygments_lexer": "ipython2",
   "version": "2.7.17",
   "file_extension": ".py",
   "codemirror_mode": {
    "version": 2,
    "name": "ipython"
   }
  },
  "kernelspec": {
   "name": "python3",
   "display_name": "Python 2.7.17 64-bit"
  },
  "interpreter": {
   "hash": "5c3b02fa24688d32a1d09351b7f8eac82a87272ad081601c73caead00a8e1fc4"
  }
 },
 "nbformat": 4,
 "nbformat_minor": 2
}