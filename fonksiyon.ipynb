{
 "cells": [
  {
   "cell_type": "code",
   "execution_count": 2,
   "source": [
    "#Given two strings, s1, and s2 \r\n",
    "#return a new string made of the first, \r\n",
    "#middle, and last characters each input string\r\n",
    "\r\n",
    "def first_middle_last(strings):\r\n",
    "    middle = int(len(strings) / 2)\r\n",
    "    wantded_sentence = strings[::middle]\r\n",
    "    print(wantded_sentence)\r\n",
    "s1 = \"Merhaba\"\r\n",
    "s2 = \"Dünya\"\r\n",
    "first_middle_last(s1)\r\n",
    "first_middle_last(s2)"
   ],
   "outputs": [
    {
     "output_type": "stream",
     "name": "stdout",
     "text": [
      "Mha\n",
      "Dn\n"
     ]
    }
   ],
   "metadata": {}
  }
 ],
 "metadata": {
  "orig_nbformat": 4,
  "language_info": {
   "mimetype": "text/x-python",
   "nbconvert_exporter": "python",
   "name": "python",
   "pygments_lexer": "ipython2",
   "version": "2.7.17",
   "file_extension": ".py",
   "codemirror_mode": {
    "version": 2,
    "name": "ipython"
   }
  },
  "kernelspec": {
   "name": "python3",
   "display_name": "Python 2.7.17 64-bit"
  },
  "interpreter": {
   "hash": "5c3b02fa24688d32a1d09351b7f8eac82a87272ad081601c73caead00a8e1fc4"
  }
 },
 "nbformat": 4,
 "nbformat_minor": 2
}