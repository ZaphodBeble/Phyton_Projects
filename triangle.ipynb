{
 "cells": [
  {
   "cell_type": "code",
   "execution_count": null,
   "source": [
    "#Write a Python program to check a triangle is equilateral, isosceles or scalene.\r\n",
    "#Note :\r\n",
    "#An equilateral triangle is a triangle in which all three sides are equal.\r\n",
    "#A scalene triangle is a triangle that has three unequal sides.\r\n",
    "#An isosceles triangle is a triangle with (at least) two equal sides.\r\n",
    "\r\n",
    "#Sample Output:\r\n",
    "#x: 6\r\n",
    "#y:8\r\n",
    "#z:12\r\n",
    "#Scalene triangle\r\n",
    "\r\n",
    "print(\"üçgen kenarlarını girin\")\r\n",
    "kenar=[]\r\n",
    "for i in range(3):\r\n",
    "   # x=int(input(\"{0} inci üçgen kenarını girin: \".format(i)))\r\n",
    "  x=int(input(f\"{i+1} inci üçgen kenarını girin: \"))\r\n",
    "  kenar.append(x)\r\n",
    "print(kenar)\r\n",
    "if kenar[0]==kenar[1]==kenar[2]:\r\n",
    "  print(\"eşkenar\")\r\n",
    "elif kenar[0]==kenar[1] or kenar[0]==kenar[2] or kenar[1]==kenar[2]:\r\n",
    "  print(\"ikizkenar\")\r\n",
    "else:\r\n",
    "  print(\"çeşitkenar3\")\r\n"
   ],
   "outputs": [],
   "metadata": {}
  }
 ],
 "metadata": {
  "orig_nbformat": 4,
  "language_info": {
   "name": "python"
  }
 },
 "nbformat": 4,
 "nbformat_minor": 2
}