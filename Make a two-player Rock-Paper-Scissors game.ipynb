{
 "cells": [
  {
   "cell_type": "code",
   "execution_count": null,
   "source": [
    "#Task : Make a two-player Rock-Paper-Scissors game. (Hint: Ask for player plays (using input), compare them, print out a message of congratulations to the winner, and ask if the players want to start a new game)\r\n",
    "#Remember the rules:\r\n",
    "#Rock beats scissors\r\n",
    "#Scissors beats paper\r\n",
    "#Paper beats rock\r\n",
    "\r\n",
    "repeat = True\r\n",
    "while repeat:    \r\n",
    "    player1 = input('Player 1, Rock(R)-Paper(P)-Scissors(S) > ').upper()\r\n",
    "    player2 = input('Player 2, Rock(R)-Paper(P)-Scissors(S) > ').upper()\r\n",
    "    if player1 == 'R':\r\n",
    "        if player2 == 'R':\r\n",
    "            print('Nobody wins. >')\r\n",
    "        elif player2 == 'P':\r\n",
    "            print('Congratulations Player2, you win.')\r\n",
    "        else:\r\n",
    "            print('Congratulations Player1, you win.')\r\n",
    "    elif player1 == 'P':\r\n",
    "        if player2 == 'P':\r\n",
    "            print('Nobody wins. >')\r\n",
    "        elif player2 == 'S':\r\n",
    "            print('Congratulations Player2, you win.')\r\n",
    "        else:\r\n",
    "            print('Congratulations Player1, you win.')\r\n",
    "    else:\r\n",
    "        if player2 == 'S':\r\n",
    "            print('Nobody wins. >')\r\n",
    "        elif player2 == 'R':\r\n",
    "            print('Congratulations Player2, you win.')\r\n",
    "        else:\r\n",
    "            print('Congratulations Player1, you win.')\r\n",
    "    repeat_q = input('Do you want to play again? (Y or N) > ').upper()\r\n",
    "    if repeat_q != 'Y':\r\n",
    "        repeat = False\r\n",
    "    "
   ],
   "outputs": [],
   "metadata": {}
  }
 ],
 "metadata": {
  "orig_nbformat": 4,
  "language_info": {
   "mimetype": "text/x-python",
   "nbconvert_exporter": "python",
   "name": "python",
   "pygments_lexer": "ipython2",
   "version": "2.7.17",
   "file_extension": ".py",
   "codemirror_mode": {
    "version": 2,
    "name": "ipython"
   }
  },
  "kernelspec": {
   "name": "python3",
   "display_name": "Python 2.7.17 64-bit"
  },
  "interpreter": {
   "hash": "5c3b02fa24688d32a1d09351b7f8eac82a87272ad081601c73caead00a8e1fc4"
  }
 },
 "nbformat": 4,
 "nbformat_minor": 2
}