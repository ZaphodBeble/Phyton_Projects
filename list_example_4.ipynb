{
 "cells": [
  {
   "cell_type": "code",
   "execution_count": null,
   "source": [
    "#Elemanları ardışık sayılardan oluşan karışık halde bir \r\n",
    "# liste veriliyor. Listenin en küçük elemanı ile en büyük\r\n",
    "# elemanı arasında yer alan, ancak listeden gösterilmeyen \r\n",
    "# eksik sayılardan çift olanları çıktı veren python kodu yazınız.\r\n",
    "\r\n",
    "#num = [48, 10, 11, 21, 36, 5, 6, 52, 28, 29,\r\n",
    "       53, 54, 45, 19, 20, 47, 55, 39, 41, 7,\r\n",
    "       9, 17, 26, 27, 42, 22, 37, 51, 46, 18,\r\n",
    "       44, 30, 34, 13, 15, 35, 33, 16, 50, 24]\r\n",
    "#Beklenen Çıktı:\r\n",
    "#8\r\n",
    "#12\r\n",
    "#14\r\n",
    "#32\r\n",
    "#38\r\n",
    "#40\r\n",
    "num = [48, 10, 11, 21, 36, 5, 6, 52, 28, 29,\r\n",
    "       53, 54, 45, 19, 20, 47, 55, 39, 41, 7,\r\n",
    "       9, 17, 26, 27, 42, 22, 37, 51, 46, 18,\r\n",
    "       44, 30, 34, 13, 15, 35, 33, 16, 50, 24]\r\n",
    "\r\n",
    "num = [48, 10, 11, 21, 36, 5, 6, 52, 28, 29, 53, 54, 45, 19, 20, 47, 55, 39, 41, 7, 9, 17, 26, 27, 42, 22, 37, 51, 46, 18, 44, 30, 34, 13, 15, 35, 33, 16, 50, 24]\r\n",
    "print(list(filter(lambda i:i not in num and i % 2 == 0, range(min(num),max(num)))))"
   ],
   "outputs": [],
   "metadata": {}
  },
  {
   "cell_type": "code",
   "execution_count": 1,
   "source": [
    "num = [48, 10, 11, 21, 36, 5, 6, 52, 28, 29,\r\n",
    "       53, 54, 45, 19, 20, 47, 55, 39, 41, 7,\r\n",
    "       9, 17, 26, 27, 42, 22, 37, 51, 46, 18,\r\n",
    "       44, 30, 34, 13, 15, 35, 33, 16, 50, 24]\r\n",
    "num_max=max(num)\r\n",
    "num_min=min(num)\r\n",
    "print(num_max)\r\n",
    "print(num_min)\r\n",
    "if num_min%2==0:\r\n",
    "  tam_liste=list(range(num_min, num_max+1, 2))\r\n",
    "else:\r\n",
    "  tam_liste=list(range(num_min+1, num_max+1, 2))\r\n",
    "print(tam_liste)\r\n",
    "for i in num:\r\n",
    "  if i in tam_liste:\r\n",
    "    tam_liste.remove(i)\r\n",
    "print(tam_liste)"
   ],
   "outputs": [
    {
     "output_type": "stream",
     "name": "stdout",
     "text": [
      "55\n",
      "5\n",
      "[6, 8, 10, 12, 14, 16, 18, 20, 22, 24, 26, 28, 30, 32, 34, 36, 38, 40, 42, 44, 46, 48, 50, 52, 54]\n",
      "[8, 12, 14, 32, 38, 40]\n"
     ]
    }
   ],
   "metadata": {}
  },
  {
   "cell_type": "code",
   "execution_count": null,
   "source": [
    "num = [48, 10, 11, 21, 36, 5, 6, 52, 28, 29, 53, 54, 45, 19, 20, 47, 55, 39, 41, 7, 9, 17, 26, 27, 42, 22, 37, 51, 46, 18, 44, 30, 34, 13, 15, 35, 33, 16, 50, 24]\r\n",
    "num.sort()\r\n",
    "minimum = min(num)\r\n",
    "maximum = max(num)\r\n",
    "new_list = []\r\n",
    "for i in range(minimum, maximum + 1):\r\n",
    "    if i not in num and i % 2 == 0:\r\n",
    "        new_list.append(i)\r\n",
    "print(new_list)"
   ],
   "outputs": [],
   "metadata": {}
  }
 ],
 "metadata": {
  "orig_nbformat": 4,
  "language_info": {
   "mimetype": "text/x-python",
   "nbconvert_exporter": "python",
   "name": "python",
   "pygments_lexer": "ipython2",
   "version": "2.7.17",
   "file_extension": ".py",
   "codemirror_mode": {
    "version": 2,
    "name": "ipython"
   }
  },
  "kernelspec": {
   "name": "python3",
   "display_name": "Python 2.7.17 64-bit"
  },
  "interpreter": {
   "hash": "5c3b02fa24688d32a1d09351b7f8eac82a87272ad081601c73caead00a8e1fc4"
  }
 },
 "nbformat": 4,
 "nbformat_minor": 2
}