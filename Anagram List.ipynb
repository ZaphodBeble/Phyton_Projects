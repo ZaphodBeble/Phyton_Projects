{
 "cells": [
  {
   "cell_type": "code",
   "execution_count": null,
   "source": [
    "#What is an anagram? Well, two words are \r\n",
    "# anagrams of each other if they both contain the same letters.\r\n",
    "# For example:\r\n",
    "#'abba' & 'baab' == true\r\n",
    "#'abba' & 'bbaa' == true\r\n",
    "#'abba' & 'abbba' == false\r\n",
    "#'abba' & 'abca' == false\r\n",
    "#Take two inputs from the user word and word list and then write code that will find all the anagrams of a word from a list. You should return a list of all the anagrams or an empty list if there are none. For example:\r\n",
    "#input1:'abba'\r\n",
    "#input2: ['aabb', 'abcd', 'bbaa', 'dada']) \r\n",
    "#output: ['aabb', 'bbaa']\r\n",
    "#input1:'racer'\r\n",
    "#input2: ['crazer', 'carer', 'racar', 'caers', 'racer'])\r\n",
    "#output: ['carer', 'racer']\r\n",
    "#input1:'laser'\r\n",
    "#input2:['lazing', 'lazy',  'lacer'])\r\n",
    "#output:[]\r\n",
    "\r\n",
    "anagram=input(\"enter a word =\")\r\n",
    "anagram_list=[] \r\n",
    "result=[]\r\n",
    "b=0\r\n",
    "while True:\r\n",
    "    a=input(\"enter a word list =  Q use to for Quit    \").lower()\r\n",
    "    if a ==\"q\":\r\n",
    "        break\r\n",
    "    else:\r\n",
    "        anagram_list.append(a)\r\n",
    "for i in anagram_list:\r\n",
    "    if sorted(list(i)) == sorted(anagram):\r\n",
    "        result.append(i)\r\n",
    "print(result)"
   ],
   "outputs": [],
   "metadata": {}
  },
  {
   "cell_type": "code",
   "execution_count": null,
   "source": [
    "listt_1 = []\r\n",
    "inp1 = input('Enter a word > ')\r\n",
    "while True:\r\n",
    "    inp2 = input(\"Enter a word for the word list or 'q' to quit > \")\r\n",
    "    if inp2.lower() == 'q':\r\n",
    "        break\r\n",
    "    else:\r\n",
    "        listt_1.append(inp2)\r\n",
    "listt_2 = []\r\n",
    "sonuc = True\r\n",
    "for i in listt_1:\r\n",
    "    if set(i) == set(inp1):\r\n",
    "        for j in i:\r\n",
    "            if i.count(j) != inp1.count(j):\r\n",
    "                sonuc = False\r\n",
    "        if sonuc:\r\n",
    "            if i not in listt_2:\r\n",
    "                listt_2.append(i)\r\n",
    "print(listt_2)"
   ],
   "outputs": [],
   "metadata": {}
  }
 ],
 "metadata": {
  "orig_nbformat": 4,
  "language_info": {
   "mimetype": "text/x-python",
   "nbconvert_exporter": "python",
   "name": "python",
   "pygments_lexer": "ipython2",
   "version": "2.7.17",
   "file_extension": ".py",
   "codemirror_mode": {
    "version": 2,
    "name": "ipython"
   }
  },
  "kernelspec": {
   "name": "python3",
   "display_name": "Python 2.7.17 64-bit"
  },
  "interpreter": {
   "hash": "5c3b02fa24688d32a1d09351b7f8eac82a87272ad081601c73caead00a8e1fc4"
  }
 },
 "nbformat": 4,
 "nbformat_minor": 2
}