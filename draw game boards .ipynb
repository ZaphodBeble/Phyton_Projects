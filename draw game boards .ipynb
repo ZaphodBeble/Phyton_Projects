{
 "cells": [
  {
   "cell_type": "code",
   "execution_count": null,
   "source": [
    "#  --- --- --- \r\n",
    "# |   |   |   | \r\n",
    "#  --- --- ---  \r\n",
    "# |   |   |   | \r\n",
    "#  --- --- ---  \r\n",
    "# |   |   |   | \r\n",
    "#  --- --- --- \r\n",
    "\r\n",
    "print(\"welcome draw a board\")\r\n",
    "size=input(\"kaça kaç bir board çizmek istiyorsunuz Örnek( 3x3 ): \")\r\n",
    "index=size.upper().find(\"X\")\r\n",
    "row=int(size[: index])\r\n",
    "column=int(size[index +1 :])\r\n",
    "row_p=\" ---\"\r\n",
    "column_p=\"|   \"\r\n",
    "for i in range(row):\r\n",
    "    print(row_p * column)\r\n",
    "    print(column_p * (column+1))\r\n",
    "print(row_p * column)\r\n",
    "\r\n",
    "\r\n"
   ],
   "outputs": [],
   "metadata": {}
  }
 ],
 "metadata": {
  "orig_nbformat": 4,
  "language_info": {
   "mimetype": "text/x-python",
   "nbconvert_exporter": "python",
   "name": "python",
   "pygments_lexer": "ipython2",
   "version": "2.7.17",
   "file_extension": ".py",
   "codemirror_mode": {
    "version": 2,
    "name": "ipython"
   }
  },
  "kernelspec": {
   "name": "python3",
   "display_name": "Python 2.7.17 64-bit"
  },
  "interpreter": {
   "hash": "5c3b02fa24688d32a1d09351b7f8eac82a87272ad081601c73caead00a8e1fc4"
  }
 },
 "nbformat": 4,
 "nbformat_minor": 2
}