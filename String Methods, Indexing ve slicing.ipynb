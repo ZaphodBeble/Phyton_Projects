{
 "cells": [
  {
   "cell_type": "code",
   "execution_count": 18,
   "source": [
    "# mail = \"from Ahmet, mail to: abcxyz@gmail.com  15:1990:01\"\r\n",
    "# Yukarıdaki mail değişkenine atanan değerden, \r\n",
    "# sadece domain kısmını, \"gmail.com\" \r\n",
    "# bölümünü çıktı verecek kodu yazınız.\r\n",
    "# mail yazan \r\n",
    "\r\n",
    "\r\n",
    "mail = \"from Ahmet, mail to: abcxyz@gmail.com  15:1990:01\"\r\n",
    "partition = mail.split(':')\r\n",
    "partition_2=partition[1].split(\" \")\r\n",
    "#print(partition_2[1])\r\n",
    "count=len(partition_2[1])\r\n",
    "#print(count)\r\n",
    "email_service=str(partition_2[1][:count])\r\n",
    "print(email_service)"
   ],
   "outputs": [
    {
     "output_type": "stream",
     "name": "stdout",
     "text": [
      "abcxyz@gmail.com\n"
     ]
    }
   ],
   "metadata": {}
  },
  {
   "cell_type": "code",
   "execution_count": 19,
   "source": [
    "# @ ifadesinden sonrasını yazan\r\n",
    "\r\n",
    "mail = \"from Ahmet, mail to: abcxyz@gmail.com 15:1990:01\"\r\n",
    "start = mail.find(\"@\") # Burada @'nin indexini buluyorum.\r\n",
    "end = mail.find(\"com\") # Burada \"com\" un indexini buluyorum\r\n",
    "end = end+3 # indexi \"com\"dan itibaren aldığım için c'nin indexini veriyor. Bu yüzden üzerine 3 ekleyip istenilen aralığı alabileceğim indexi belirliyorum.\r\n",
    "print(mail[start+1:end]) # Result"
   ],
   "outputs": [
    {
     "output_type": "stream",
     "name": "stdout",
     "text": [
      "gmail.com\n"
     ]
    }
   ],
   "metadata": {}
  }
 ],
 "metadata": {
  "orig_nbformat": 4,
  "language_info": {
   "mimetype": "text/x-python",
   "nbconvert_exporter": "python",
   "name": "python",
   "pygments_lexer": "ipython2",
   "version": "2.7.17",
   "file_extension": ".py",
   "codemirror_mode": {
    "version": 2,
    "name": "ipython"
   }
  },
  "kernelspec": {
   "name": "python3",
   "display_name": "Python 2.7.17 64-bit"
  },
  "interpreter": {
   "hash": "5c3b02fa24688d32a1d09351b7f8eac82a87272ad081601c73caead00a8e1fc4"
  }
 },
 "nbformat": 4,
 "nbformat_minor": 2
}