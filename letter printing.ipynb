{
 "cells": [
  {
   "cell_type": "code",
   "execution_count": null,
   "source": [
    "#Given two strings, s1, and s2 \r\n",
    "#return a new string made of the first, \r\n",
    "#middle, and last characters each input string\r\n",
    "#s1 = \"America\"\r\n",
    "#s2 = \"Japan\"\r\n",
    "#Output:\r\n",
    "#AJrpan\r\n",
    "first_word=input(\"enter the first word must be an odd number! :\")\r\n",
    "second_word=input(\"enter the second word must be an odd number! :\")\r\n",
    "first_middle=int(len(first_word)/2)\r\n",
    "second_middle=int(len(second_word)/2)\r\n",
    "print(first_word[0]+second_word[0]+first_word[first_middle]+second_word[second_middle]+first_word[-1]+second_word[-1])\r\n"
   ],
   "outputs": [],
   "metadata": {}
  }
 ],
 "metadata": {
  "orig_nbformat": 4,
  "language_info": {
   "mimetype": "text/x-python",
   "nbconvert_exporter": "python",
   "name": "python",
   "pygments_lexer": "ipython2",
   "version": "2.7.17",
   "file_extension": ".py",
   "codemirror_mode": {
    "version": 2,
    "name": "ipython"
   }
  },
  "kernelspec": {
   "name": "python3",
   "display_name": "Python 2.7.17 64-bit"
  },
  "interpreter": {
   "hash": "5c3b02fa24688d32a1d09351b7f8eac82a87272ad081601c73caead00a8e1fc4"
  }
 },
 "nbformat": 4,
 "nbformat_minor": 2
}