{
 "cells": [
  {
   "cell_type": "code",
   "execution_count": null,
   "source": [
    "num = int(input('enter a number:'))\r\n",
    "if num > 1:\r\n",
    "  for i in range (2,num):\r\n",
    "    if (num % i) == 0:\r\n",
    "      print(num,\"is not a prime number\")\r\n",
    "      break\r\n",
    "  else:\r\n",
    "      print(num, \"is a prime number\")\r\n",
    "\r\n",
    "else:\r\n",
    "  print(num, \"is not a prime number\")"
   ],
   "outputs": [],
   "metadata": {}
  }
 ],
 "metadata": {
  "orig_nbformat": 4,
  "language_info": {
   "name": "python"
  }
 },
 "nbformat": 4,
 "nbformat_minor": 2
}