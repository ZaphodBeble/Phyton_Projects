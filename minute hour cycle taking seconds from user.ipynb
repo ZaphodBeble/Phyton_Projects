{
 "cells": [
  {
   "cell_type": "code",
   "execution_count": null,
   "source": [
    "#minute hour cycle taking seconds from user\r\n",
    "\r\n",
    "number=int(input(\"enter a positive number in seconds: \"))\r\n",
    "hours=int(number/3600)\r\n",
    "minute=int((number-hours*3600)/60)\r\n",
    "second=number-(hours*3600+minute*60)\r\n",
    "\r\n",
    "print(time,\"saat\")\r\n",
    "print(minute,\"dakika\")\r\n",
    "print(second,\"saniye\")\r\n",
    "\r\n"
   ],
   "outputs": [],
   "metadata": {}
  },
  {
   "cell_type": "code",
   "execution_count": null,
   "source": [
    "total_seconds = int(input(\"How many seconds will you write to convert to hour/minute/seconds? : \"))\r\n",
    "hour = total_seconds // (60*60)\r\n",
    "minute = (total_seconds % (60*60)) // 60\r\n",
    "second = (total_seconds % (60*60)) % 60\r\n",
    "print(f\"{total_seconds} is equal to {hour} hours {minute} minutes {second} seconds\")"
   ],
   "outputs": [],
   "metadata": {}
  }
 ],
 "metadata": {
  "orig_nbformat": 4,
  "language_info": {
   "mimetype": "text/x-python",
   "nbconvert_exporter": "python",
   "name": "python",
   "pygments_lexer": "ipython2",
   "version": "2.7.17",
   "file_extension": ".py",
   "codemirror_mode": {
    "version": 2,
    "name": "ipython"
   }
  },
  "kernelspec": {
   "name": "python3",
   "display_name": "Python 2.7.17 64-bit"
  },
  "interpreter": {
   "hash": "5c3b02fa24688d32a1d09351b7f8eac82a87272ad081601c73caead00a8e1fc4"
  }
 },
 "nbformat": 4,
 "nbformat_minor": 2
}