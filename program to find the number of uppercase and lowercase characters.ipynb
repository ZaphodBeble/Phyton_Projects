{
 "cells": [
  {
   "cell_type": "code",
   "execution_count": null,
   "source": [
    "#program to find the number of uppercase and lowercase characters\r\n",
    "\r\n",
    "text = input('Enter your text here > ')\r\n",
    "capital = 0\r\n",
    "lower = 0\r\n",
    "a = [chr(i) for i in range(65, 90)]\r\n",
    "b = [chr(i) for i in range(97, 122)]\r\n",
    "c = a + b\r\n",
    "for i in text:\r\n",
    "    if i in c:\r\n",
    "        if i.upper() == i:\r\n",
    "            capital += 1\r\n",
    "        else:\r\n",
    "            lower += 1\r\n",
    "print(f'Buyuk harf karakter sayisi : {capital}')\r\n",
    "print(f'Kucuk harf karakter sayisi : {lower}')\r\n",
    "    "
   ],
   "outputs": [],
   "metadata": {}
  },
  {
   "cell_type": "code",
   "execution_count": null,
   "source": [
    "kelime = input(\"bir kelime giriniz\")\r\n",
    "kelime=kelime.replace(\" \",\"\")\r\n",
    "küçük = 0\r\n",
    "büyük = 0\r\n",
    "for i in kelime:\r\n",
    "    if i.upper() == i :\r\n",
    "        büyük += 1\r\n",
    "    else :\r\n",
    "        küçük += 1\r\n",
    "print(\"Büyük harf sayısı {}\".format(büyük))\r\n",
    "print(\"Küçük harf sayısı {}\".format(küçük))"
   ],
   "outputs": [],
   "metadata": {}
  }
 ],
 "metadata": {
  "orig_nbformat": 4,
  "language_info": {
   "mimetype": "text/x-python",
   "nbconvert_exporter": "python",
   "name": "python",
   "pygments_lexer": "ipython2",
   "version": "2.7.17",
   "file_extension": ".py",
   "codemirror_mode": {
    "version": 2,
    "name": "ipython"
   }
  },
  "kernelspec": {
   "name": "python3",
   "display_name": "Python 2.7.17 64-bit"
  },
  "interpreter": {
   "hash": "5c3b02fa24688d32a1d09351b7f8eac82a87272ad081601c73caead00a8e1fc4"
  }
 },
 "nbformat": 4,
 "nbformat_minor": 2
}