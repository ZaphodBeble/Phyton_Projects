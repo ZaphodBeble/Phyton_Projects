{
 "cells": [
  {
   "cell_type": "code",
   "execution_count": null,
   "source": [
    "#operations with the left and right hand keys pressed from the keyboard\r\n",
    "\r\n",
    "\r\n",
    "left_hand= set(\"qwertasdfgzxcvb\")\r\n",
    "right_hand= set(\"yuıopğühjklşinmöç\")\r\n",
    "word = input(\"Enter a word :\").title().strip()\r\n",
    "if (set(word)-left_hand) == set(word):\r\n",
    "    print(\"False : uses only right-hand fingers.\")\r\n",
    "elif (set(word)-right_hand) == set(word):\r\n",
    "  print(\"False : uses only left-hand fingers.\")\r\n",
    "else:\r\n",
    "  print(\"True : uses both hand fingers.\")"
   ],
   "outputs": [],
   "metadata": {}
  },
  {
   "cell_type": "code",
   "execution_count": null,
   "source": [
    "left = set(\"qwertasdfgzxcvb\")\r\n",
    "  right = set(\"yuiophjklmn\")\r\n",
    "  a = set(str(input(\"write a world\")))\r\n",
    "  a&left!=set() and a&right!=set()"
   ],
   "outputs": [],
   "metadata": {}
  },
  {
   "cell_type": "code",
   "execution_count": null,
   "source": [
    "left_hand = set(\"qwertyasdfgzxcvb\")\r\n",
    "right_hand = set(\"uıopğühjklşinmöç\")\r\n",
    "a = set(input(\"enter a word : \"))\r\n",
    "if (a & right_hand) and (a & left_hand):\r\n",
    "  print(\"your word is comfotable\")\r\n",
    "else:\r\n",
    "  print(\"you word is not comfotable\")"
   ],
   "outputs": [],
   "metadata": {}
  },
  {
   "cell_type": "code",
   "execution_count": null,
   "source": [
    "Left_hand = [\"q\", \"w\", \"e\", \"r\", \"t\", \"a\", \"s\", \"d\", \"f\", \"g\", \"z\", \"x\", \"c\", \"v\", \"b\"]\r\n",
    "Right_hand = [\"y\", \"u\", \"i\", \"o\", \"p\", \"h\", \"j\", \"k\", \"l\", \"n\", \"m\"]\r\n",
    "set_left = set(Left_hand)\r\n",
    "set_right = set(Right_hand)\r\n",
    "word = input(\"Enter a word= \")\r\n",
    "set_word = set(word)\r\n",
    "son = (set_word.isdisjoint(set_right) == 0) and (set_word.isdisjoint(set_left) == 0)\r\n",
    "print(\"Is word comfortable ? : \" + str(son))"
   ],
   "outputs": [],
   "metadata": {}
  },
  {
   "cell_type": "code",
   "execution_count": null,
   "source": [
    "Left = {'q', 'w', 'e', 'r', 't', 'a', 's', 'd', 'f', 'g', 'z', 'x', 'c', 'v', 'b'}\r\n",
    "Right = {'y', 'u', 'i', 'o','p', 'h', 'j', 'k', 'l', 'n', 'm'}\r\n",
    "word = set(input(\"write a word: \").lower().strip())\r\n",
    "left = bool(word.intersection(Left))* \"False (uses only left-hand fingers)\"\r\n",
    "right = bool(word.intersection(Right))* \"False (uses only right-hand fingers)\"\r\n",
    "both = bool(left and right)* \"True (uses both hand fingers)\"\r\n",
    "both or right or left"
   ],
   "outputs": [],
   "metadata": {}
  },
  {
   "cell_type": "code",
   "execution_count": null,
   "source": [
    "counter1 = 0\r\n",
    "counter2 = 0\r\n",
    "left_hand_letters = [\"q\",\"w\",\"e\",\"r\",\"t\",\"a\",\"s\",\"d\",\"f\",\"g\",\"z\",\"x\",\"c\",\"v\",\"b\"]\r\n",
    "right_hand_letters = [\"y\",\"u\",\"ı\",\"o\",\"p\",\"ğ\",\"ü\",\"h\",\"j\",\"k\",\"l\",\"ş\",\"i\",\"n\",\"m\",\"ö\",\"ç\"]\r\n",
    "comfortable_word = [\"q\",\"w\",\"e\",\"r\",\"t\",\"a\",\"s\",\"d\",\"f\",\"g\",\"z\",\"x\",\"c\",\"v\",\"b\",\"y\",\"u\",\"ı\",\"o\",\"p\",\"ğ\",\"ü\",\"h\",\"j\",\"k\",\"l\",\"ş\",\"i\",\"n\",\"m\",\"ö\",\"ç\"]\r\n",
    "a = list(input(\"Kelimeyi giriniz: \"))\r\n",
    "for i in a:\r\n",
    "   if i in left_hand_letters:\r\n",
    "       counter1 += 1\r\n",
    "   else:\r\n",
    "       counter2 += 1\r\n",
    "if counter1 == 0 or counter2 == 0:\r\n",
    "   print(False)\r\n",
    "else:\r\n",
    "   print(True)"
   ],
   "outputs": [],
   "metadata": {}
  },
  {
   "cell_type": "code",
   "execution_count": null,
   "source": [
    "left_hand = set(\"qwertasdfgzxcvb\")\r\n",
    "right_hand = set(\"yuıopğühjklşinmöç\")\r\n",
    "word = input(\"please one word writing :\")\r\n",
    "word2 = set(word)\r\n",
    "if  word2 in (word2&left_hand, word2&right_hand):\r\n",
    "    print(\"this word noncomfortable\")\r\n",
    "else:\r\n",
    "    print(\"this word comfortable\")"
   ],
   "outputs": [],
   "metadata": {}
  }
 ],
 "metadata": {
  "orig_nbformat": 4,
  "language_info": {
   "mimetype": "text/x-python",
   "nbconvert_exporter": "python",
   "name": "python",
   "pygments_lexer": "ipython2",
   "version": "2.7.17",
   "file_extension": ".py",
   "codemirror_mode": {
    "version": 2,
    "name": "ipython"
   }
  },
  "kernelspec": {
   "name": "python3",
   "display_name": "Python 2.7.17 64-bit"
  },
  "interpreter": {
   "hash": "5c3b02fa24688d32a1d09351b7f8eac82a87272ad081601c73caead00a8e1fc4"
  }
 },
 "nbformat": 4,
 "nbformat_minor": 2
}