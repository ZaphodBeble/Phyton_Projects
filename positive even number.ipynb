{
 "cells": [
  {
   "cell_type": "code",
   "execution_count": null,
   "source": [
    "#Kullanıcıdan integer bir değer alan ve sayının\r\n",
    "# pozitif-çift sayı olup olmadığını kontrol eden\r\n",
    "# program yazınız. Girilen sayıların\r\n",
    "# muhtemel farklı durumlarını göz önünde bulundurunuz.\r\n",
    "\r\n",
    "num = (input(\"Enter a number: \"))\r\n",
    "if num.isdigit():\r\n",
    "    numinteger = int(num)\r\n",
    "    if numinteger % 2 == 0:\r\n",
    "        print(num, \",is a even number\")\r\n",
    "    else:\r\n",
    "        print(num, \"is a odd number\")\r\n",
    "else:\r\n",
    "    print(\"It is an invalid entry. Don't use non-numeric, float, or negative values!\")"
   ],
   "outputs": [],
   "metadata": {}
  },
  {
   "cell_type": "code",
   "execution_count": null,
   "source": [
    "number = input('Enter a number > ')\r\n",
    "try:\r\n",
    "    int(number)\r\n",
    "    isdig = True\r\n",
    "except ValueError:\r\n",
    "    print('Invalid Syntax')\r\n",
    "    isdig = False\r\n",
    "if isdig:    \r\n",
    "    if int(number) % 2 == 0 and int(number) > 0:\r\n",
    "        print(f'{number} is a positive even integer.')\r\n",
    "    else:\r\n",
    "        print(f'{number} is not a positive even integer.')"
   ],
   "outputs": [],
   "metadata": {}
  },
  {
   "cell_type": "code",
   "execution_count": null,
   "source": [
    "num = int(input('Enter a number(different from zero), please :'))\r\n",
    "while (num % 2 == 0) and (num > 0) :\r\n",
    "    print(num, 'is a positive even number')\r\n",
    "print('Try again!')\r\n",
    "num = int(input('Enter a number, please :'))"
   ],
   "outputs": [],
   "metadata": {}
  },
  {
   "cell_type": "code",
   "execution_count": null,
   "source": [
    "while True :\r\n",
    "    try :\r\n",
    "        number = int(input(\"Bir sayı girin...:\"))\r\n",
    "    except ValueError :\r\n",
    "        print(\"Lütfen bir tam sayı girin.\")\r\n",
    "        continue\r\n",
    "    else :\r\n",
    "        break\r\n",
    "if number > 0 :\r\n",
    "    if number % 2 == 0 :\r\n",
    "        print(\"Sayınız hem Pozitif hem de çift sayidir.\")\r\n",
    "    else :\r\n",
    "        print(\"Sayınız tek sayıdır.\")\r\n",
    "else :\r\n",
    "    print(\"Sayınız pozitif bir sayı değil.\")"
   ],
   "outputs": [],
   "metadata": {}
  }
 ],
 "metadata": {
  "orig_nbformat": 4,
  "language_info": {
   "mimetype": "text/x-python",
   "nbconvert_exporter": "python",
   "name": "python",
   "pygments_lexer": "ipython2",
   "version": "2.7.17",
   "file_extension": ".py",
   "codemirror_mode": {
    "version": 2,
    "name": "ipython"
   }
  },
  "kernelspec": {
   "name": "python3",
   "display_name": "Python 2.7.17 64-bit"
  },
  "interpreter": {
   "hash": "5c3b02fa24688d32a1d09351b7f8eac82a87272ad081601c73caead00a8e1fc4"
  }
 },
 "nbformat": 4,
 "nbformat_minor": 2
}