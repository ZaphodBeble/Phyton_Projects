{
 "cells": [
  {
   "cell_type": "code",
   "execution_count": 7,
   "source": [
    "n = \"325\"\r\n",
    "n = int(n)\r\n",
    "print(n)\r\n",
    "d1 = n  % 10\r\n",
    "n = n // 10\r\n",
    "d2 = n % 10\r\n",
    "n = n // 10\r\n",
    "print(n)\r\n",
    "print(d1)\r\n",
    "print (n + d1 + d2)"
   ],
   "outputs": [
    {
     "output_type": "stream",
     "name": "stdout",
     "text": [
      "325\n",
      "3\n",
      "5\n",
      "10\n"
     ]
    }
   ],
   "metadata": {}
  }
 ],
 "metadata": {
  "orig_nbformat": 4,
  "language_info": {
   "mimetype": "text/x-python",
   "nbconvert_exporter": "python",
   "name": "python",
   "pygments_lexer": "ipython2",
   "version": "2.7.17",
   "file_extension": ".py",
   "codemirror_mode": {
    "version": 2,
    "name": "ipython"
   }
  },
  "kernelspec": {
   "name": "python3",
   "display_name": "Python 2.7.17 64-bit"
  },
  "interpreter": {
   "hash": "5c3b02fa24688d32a1d09351b7f8eac82a87272ad081601c73caead00a8e1fc4"
  }
 },
 "nbformat": 4,
 "nbformat_minor": 2
}