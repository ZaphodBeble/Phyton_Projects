{
 "cells": [
  {
   "cell_type": "code",
   "execution_count": null,
   "source": [
    "#Değerli arkadaşlarım, hepinize iyi bayramlar:woman-raising-hand: \r\n",
    "# Bu soru da benden gelsin:wink:\r\n",
    "#Write a Python code that find the students\r\n",
    "# who have maximum and minimum average at below.\r\n",
    "#grades={'Student-1': \r\n",
    "# {'Lesson-1': 57, 'Lesson-2': 46, 'Lesson-3': 58, 'Lesson-4': 81, 'Lesson-5': 85}, \r\n",
    "# 'Student-2':\r\n",
    "# {'Lesson-1': 85, 'Lesson-2': 56, 'Lesson-3': 51, 'Lesson-4': 69, 'Lesson-5': 67},\r\n",
    "# 'Student-3': \r\n",
    "# {'Lesson-1': 68, 'Lesson-2': 76, 'Lesson-3': 87, 'Lesson-4': 57, 'Lesson-5': 56},\r\n",
    "# 'Student-4':\r\n",
    "# {'Lesson-1': 78, 'Lesson-2': 93, 'Lesson-3': 88, 'Lesson-4': 38, 'Lesson-5': 54},\r\n",
    "# 'Student-5': \r\n",
    "# {'Lesson-1': 50, 'Lesson-2': 46, 'Lesson-3': 78, 'Lesson-4': 81, 'Lesson-5': 75}}\r\n",
    "\r\n",
    "grades={'Student-1': \r\n",
    "    {'Lesson-1':\r\n",
    "        {'Lesson-1': 57, 'Lesson-2': 46, 'Lesson-3': 58, 'Lesson-4': 81, 'Lesson-5': 85},\r\n",
    "    'Student-2':\r\n",
    "        {'Lesson-1': 85, 'Lesson-2': 56, 'Lesson-3': 51, 'Lesson-4': 69, 'Lesson-5': 67},\r\n",
    "    'Student-3': \r\n",
    "        {'Lesson-1': 68, 'Lesson-2': 76, 'Lesson-3': 87, 'Lesson-4': 57, 'Lesson-5': 56}, \r\n",
    "    'Student-4':\r\n",
    "        {'Lesson-1': 78, 'Lesson-2': 93, 'Lesson-3': 88, 'Lesson-4': 38, 'Lesson-5': 54},\r\n",
    "    'Student-5': \r\n",
    "        {'Lesson-1': 50, 'Lesson-2': 46, 'Lesson-3': 78, 'Lesson-4': 81, 'Lesson-5': 75}}\r\n",
    "    grades={\r\n",
    "    'Student-1': {'Lesson-1': 57, 'Lesson-2': 46, 'Lesson-3': 58, 'Lesson-4': 81, 'Lesson-5': 85}, \r\n",
    "    'Student-2': {'Lesson-1': 85, 'Lesson-2': 56, 'Lesson-3': 51, 'Lesson-4': 69, 'Lesson-5': 67}, \r\n",
    "    'Student-3': {'Lesson-1': 68, 'Lesson-2': 76, 'Lesson-3': 87, 'Lesson-4': 57, 'Lesson-5': 56}, \r\n",
    "    'Student-4': {'Lesson-1': 78, 'Lesson-2': 93, 'Lesson-3': 88, 'Lesson-4': 38, 'Lesson-5': 54}, \r\n",
    "    'Student-5': {'Lesson-1': 50, 'Lesson-2': 46, 'Lesson-3': 78, 'Lesson-4': 81, 'Lesson-5': 75}}\r\n",
    "ortalama = {}\r\n",
    "for i in grades :\r\n",
    "    notlar = grades[i].values()\r\n",
    "    print(notlar)\r\n",
    "    ortalama[i] = [sum(notlar) / len(notlar)]\r\n",
    "print(ortalama)\r\n",
    "for i in ortalama:\r\n",
    "    if ortalama[i] == max(ortalama.values()) :\r\n",
    "        print(f\"{i} has the maximum average\" )\r\n",
    "    elif ortalama[i] == min(ortalama.values()) :\r\n",
    "        print(f\"{i} has the minumum average\" )"
   ],
   "outputs": [],
   "metadata": {}
  },
  {
   "cell_type": "code",
   "execution_count": null,
   "source": [
    "grades={\r\n",
    "    'Student-1': {'Lesson-1': 57, 'Lesson-2': 46, 'Lesson-3': 58, 'Lesson-4': 81, 'Lesson-5': 85}, \r\n",
    "    'Student-2': {'Lesson-1': 85, 'Lesson-2': 56, 'Lesson-3': 51, 'Lesson-4': 69, 'Lesson-5': 67}, \r\n",
    "    'Student-3': {'Lesson-1': 68, 'Lesson-2': 76, 'Lesson-3': 87, 'Lesson-4': 57, 'Lesson-5': 56}, \r\n",
    "    'Student-4': {'Lesson-1': 78, 'Lesson-2': 93, 'Lesson-3': 88, 'Lesson-4': 38, 'Lesson-5': 54}, \r\n",
    "    'Student-5': {'Lesson-1': 50, 'Lesson-2': 46, 'Lesson-3': 78, 'Lesson-4': 81, 'Lesson-5': 75}}\r\n",
    "student_dict = {}\r\n",
    "student_list = []\r\n",
    "students = list(grades.keys())\r\n",
    "for i in grades.values():\r\n",
    "    total = 0\r\n",
    "    print(i.items())\r\n",
    "    for x, y in i.items():\r\n",
    "        total += y\r\n",
    "        if x == list(grades['Student-1'].keys())[-1]:\r\n",
    "            total = total / len(grades)\r\n",
    "            student_list.append(total)\r\n",
    "            continue\r\n",
    "for i in range(len(grades)):\r\n",
    "    student_dict[student_list[i]] = students[i]\r\n",
    "maximum = max(list(student_dict.keys()))\r\n",
    "minimum = min(list(student_dict.keys()))\r\n",
    "print(f'The student who has the maximum average is {student_dict[maximum]} and his/her score is {maximum}.')\r\n",
    "print(f'The student who has the minimum average is {student_dict[minimum]} and his/her score is {minimum}.')"
   ],
   "outputs": [],
   "metadata": {}
  }
 ],
 "metadata": {
  "orig_nbformat": 4,
  "language_info": {
   "mimetype": "text/x-python",
   "nbconvert_exporter": "python",
   "name": "python",
   "pygments_lexer": "ipython2",
   "version": "2.7.17",
   "file_extension": ".py",
   "codemirror_mode": {
    "version": 2,
    "name": "ipython"
   }
  },
  "kernelspec": {
   "name": "python3",
   "display_name": "Python 2.7.17 64-bit"
  },
  "interpreter": {
   "hash": "5c3b02fa24688d32a1d09351b7f8eac82a87272ad081601c73caead00a8e1fc4"
  }
 },
 "nbformat": 4,
 "nbformat_minor": 2
}