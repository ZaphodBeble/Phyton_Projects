{
 "cells": [
  {
   "cell_type": "code",
   "execution_count": null,
   "source": [
    "# Take a string with input() and returns the Morse code equivalent\r\n",
    "# Examples\r\n",
    "# \"EDABBIT CHALLENGE\" ➞ \". -.. .- -... -... .. -   -.-. .... .- .-.. .-.. . -. --. .\"\r\n",
    "# \"HELP ME !\" ➞ \".... . .-.. .--.   -- .   -.-.--\"\r\n",
    "\r\n",
    "#notes\r\n",
    "# Ouput should be International Morse Code, and use the standard conventions for symbols not defined inside the ITU recommendation (see Resources).\r\n",
    "# Input value can be lower or upper case.\r\n",
    "# Input string can have digits.\r\n",
    "# Input string can have some special characters (e.g. comma, colon, apostrophe, period, question mark, exclamation mark).\r\n",
    "# One space \" \" is expected after each character, except the last one.\r\n",
    "\r\n",
    "char_to_dots = {\r\n",
    "  'A': '.-', 'B': '-...', 'C': '-.-.', 'D': '-..', 'E': '.', 'F': '..-.',\r\n",
    "  'G': '--.', 'H': '....', 'I': '..', 'J': '.---', 'K': '-.-', 'L': '.-..',\r\n",
    "  'M': '--', 'N': '-.', 'O': '---', 'P': '.--.', 'Q': '--.-', 'R': '.-.',\r\n",
    "  'S': '...', 'T': '-', 'U': '..-', 'V': '...-', 'W': '.--', 'X': '-..-',\r\n",
    "  'Y': '-.--', 'Z': '--..', ' ': ' ', '0': '-----',\r\n",
    "  '1': '.----', '2': '..---', '3': '...--', '4': '....-', '5': '.....',\r\n",
    "  '6': '-....', '7': '--...', '8': '---..', '9': '----.',\r\n",
    "  '&': '.-...', \"'\": '.----.', '@': '.--.-.', ')': '-.--.-', '(': '-.--.',\r\n",
    "  ':': '---...', ',': '--..--', '=': '-...-', '!': '-.-.--', '.': '.-.-.-',\r\n",
    "  '-': '-....-', '+': '.-.-.', '\"': '.-..-.', '?': '..--..', '/': '-..-.'\r\n",
    "}\r\n",
    "word=input('Enter a word/phrase to be returns the Morse code equivalent:')\r\n",
    "word_convert=[]\r\n",
    "for i in list(word.upper()):\r\n",
    "  word_convert.append(char_to_dots[i])\r\n",
    "word_convert = ' '.join(word_convert)\r\n",
    "print(word_convert)"
   ],
   "outputs": [],
   "metadata": {}
  },
  {
   "cell_type": "code",
   "execution_count": null,
   "source": [
    "word=input('Enter a word/phrase to be returns the Morse code equivalent:')\r\n",
    "word_convert=' '.join(char_to_dots[i.upper()] for i in word)\r\n",
    "print(word_convert)\r\n"
   ],
   "outputs": [],
   "metadata": {}
  },
  {
   "cell_type": "code",
   "execution_count": null,
   "source": [
    "char_to_dots = {\r\n",
    "  'A': '.-', 'B': '-...', 'C': '-.-.', 'D': '-..', 'E': '.', 'F': '..-.',\r\n",
    "  'G': '--.', 'H': '....', 'I': '..', 'J': '.---', 'K': '-.-', 'L': '.-..',\r\n",
    "  'M': '--', 'N': '-.', 'O': '---', 'P': '.--.', 'Q': '--.-', 'R': '.-.',\r\n",
    "  'S': '...', 'T': '-', 'U': '..-', 'V': '...-', 'W': '.--', 'X': '-..-',\r\n",
    "  'Y': '-.--', 'Z': '--..', ' ': ' ', '0': '-----',\r\n",
    "  '1': '.----', '2': '..---', '3': '...--', '4': '....-', '5': '.....',\r\n",
    "  '6': '-....', '7': '--...', '8': '---..', '9': '----.',\r\n",
    "  '&': '.-...', \"'\": '.----.', '@': '.--.-.', ')': '-.--.-', '(': '-.--.',\r\n",
    "  ':': '---...', ',': '--..--', '=': '-...-', '!': '-.-.--', '.': '.-.-.-',\r\n",
    "  '-': '-....-', '+': '.-.-.', '\"': '.-..-.', '?': '..--..', '/': '-..-.'}\r\n",
    "def encoder_morse(string)\r\n",
    "return \" \".join(char_to_dots[i.upper()] i in string)\r\n",
    "word=input(\"Enter a word/phrase to be returns the Morse code equivalent:\")\r\n",
    "print(encoder_morse(word))"
   ],
   "outputs": [],
   "metadata": {}
  },
  {
   "cell_type": "code",
   "execution_count": null,
   "source": [
    "word=input(\"Enter a word/phrase to be returns the Morse code equivalent:\")\r\n",
    " def encoder_morse(string):\r\n",
    "    char_to_dots = {\r\n",
    "  'A': '.-', 'B': '-...', 'C': '-.-.', 'D': '-..', 'E': '.', 'F': '..-.',\r\n",
    "  'G': '--.', 'H': '....', 'I': '..', 'J': '.---', 'K': '-.-', 'L': '.-..',\r\n",
    "  'M': '--', 'N': '-.', 'O': '---', 'P': '.--.', 'Q': '--.-', 'R': '.-.',\r\n",
    "  'S': '...', 'T': '-', 'U': '..-', 'V': '...-', 'W': '.--', 'X': '-..-',\r\n",
    "  'Y': '-.--', 'Z': '--..', ' ': ' ', '0': '-----',\r\n",
    "  '1': '.----', '2': '..---', '3': '...--', '4': '....-', '5': '.....',\r\n",
    "  '6': '-....', '7': '--...', '8': '---..', '9': '----.',\r\n",
    "  '&': '.-...', \"'\": '.----.', '@': '.--.-.', ')': '-.--.-', '(': '-.--.',\r\n",
    "  ':': '---...', ',': '--..--', '=': '-...-', '!': '-.-.--', '.': '.-.-.-',\r\n",
    "  '-': '-....-', '+': '.-.-.', '\"': '.-..-.', '?': '..--..', '/': '-..-.'}\r\n",
    "    return \" \".join(char_to_dots[i.upper()] for i in string)\r\n",
    "\r\n",
    "print(encoder_morse(word))"
   ],
   "outputs": [],
   "metadata": {}
  }
 ],
 "metadata": {
  "orig_nbformat": 4,
  "language_info": {
   "mimetype": "text/x-python",
   "nbconvert_exporter": "python",
   "name": "python",
   "pygments_lexer": "ipython2",
   "version": "2.7.17",
   "file_extension": ".py",
   "codemirror_mode": {
    "version": 2,
    "name": "ipython"
   }
  },
  "kernelspec": {
   "name": "python3",
   "display_name": "Python 2.7.17 64-bit"
  },
  "interpreter": {
   "hash": "5c3b02fa24688d32a1d09351b7f8eac82a87272ad081601c73caead00a8e1fc4"
  }
 },
 "nbformat": 4,
 "nbformat_minor": 2
}