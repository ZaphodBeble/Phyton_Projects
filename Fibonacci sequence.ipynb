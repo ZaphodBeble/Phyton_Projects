{
 "cells": [
  {
   "cell_type": "code",
   "execution_count": 5,
   "source": [
    "#Bir soruda benden     Fibonacci dizisini 0 ile 50 arasında \r\n",
    "# almak için bir Python programı yazın .\r\n",
    "\r\n",
    "n = int(input(\"Please enter a number : \"))\r\n",
    "fib_list = [0, 1]\r\n",
    "i = 2\r\n",
    "while len(fib_list)<=n:\r\n",
    "    fib_list.append(fib_list[i-1]+fib_list[i-2])\r\n",
    "    i+=1\r\n",
    "del (fib_list[0],fib_list[-1])\r\n",
    "print(fib_list)\r\n",
    "    "
   ],
   "outputs": [
    {
     "output_type": "stream",
     "name": "stdout",
     "text": [
      "[1, 1, 2, 3, 5, 8, 13, 21, 34, 55, 89, 144, 233, 377, 610, 987, 1597, 2584, 4181, 6765, 10946, 17711, 28657, 46368]\n"
     ]
    }
   ],
   "metadata": {}
  },
  {
   "cell_type": "code",
   "execution_count": 6,
   "source": [
    "x, y, z = 0, 1, 2\r\n",
    "fibonacci=[]\r\n",
    "while z < 50:\r\n",
    "    z = x + y\r\n",
    "    x = y\r\n",
    "    y = z\r\n",
    "    fibonacci.append(x)\r\n",
    "print(\"fibonacci sayıları:\", fibonacci)"
   ],
   "outputs": [
    {
     "output_type": "stream",
     "name": "stdout",
     "text": [
      "('fibonacci say\\xc4\\xb1lar\\xc4\\xb1:', [1, 1, 2, 3, 5, 8, 13, 21, 34])\n"
     ]
    }
   ],
   "metadata": {}
  }
 ],
 "metadata": {
  "orig_nbformat": 4,
  "language_info": {
   "mimetype": "text/x-python",
   "nbconvert_exporter": "python",
   "name": "python",
   "pygments_lexer": "ipython2",
   "version": "2.7.17",
   "file_extension": ".py",
   "codemirror_mode": {
    "version": 2,
    "name": "ipython"
   }
  },
  "kernelspec": {
   "name": "python3",
   "display_name": "Python 2.7.17 64-bit"
  },
  "interpreter": {
   "hash": "5c3b02fa24688d32a1d09351b7f8eac82a87272ad081601c73caead00a8e1fc4"
  }
 },
 "nbformat": 4,
 "nbformat_minor": 2
}