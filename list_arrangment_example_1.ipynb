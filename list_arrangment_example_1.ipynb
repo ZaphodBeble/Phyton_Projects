{
 "cells": [
  {
   "cell_type": "code",
   "execution_count": 1,
   "source": [
    "#Write a Python code to sort the list at below\r\n",
    "# without using .sort() method of list.\r\n",
    "# elements of list = [999, 333, 2, 8982, 12, 45, 77, 99, 11]\r\n",
    "# Expected output: [2, 11, 12, 45, 77, 99, 333, 999, 8982]\r\n",
    "\r\n",
    "\r\n",
    "list = [999, 333, 2, 8982, 12, 45, 77, 99, 11]\r\n",
    "arrangment=[]\r\n",
    "length=len(list)\r\n",
    "i=0\r\n",
    "while i<length:\r\n",
    "  add_value=min(list)\r\n",
    "  arrangment.append(add_value)\r\n",
    "  list.remove(add_value)\r\n",
    "  i+=1\r\n",
    "print(arrangment)"
   ],
   "outputs": [
    {
     "output_type": "stream",
     "name": "stdout",
     "text": [
      "[2, 11, 12, 45, 77, 99, 333, 999, 8982]\n"
     ]
    }
   ],
   "metadata": {}
  },
  {
   "cell_type": "code",
   "execution_count": 3,
   "source": [
    "list_ = [999, 333, 2, 8982, 12, 45, 77, 99, 11]\r\n",
    "new_list = []\r\n",
    "while list_:\r\n",
    "    min_element = list_[0]\r\n",
    "    for i in list_:\r\n",
    "        if i < min_element:\r\n",
    "            min_element = i\r\n",
    "    new_list.append(min_element)\r\n",
    "    list_.remove(min_element)\r\n",
    "print(new_list)"
   ],
   "outputs": [
    {
     "output_type": "stream",
     "name": "stdout",
     "text": [
      "[2, 11, 12, 45, 77, 99, 333, 999, 8982]\n"
     ]
    }
   ],
   "metadata": {}
  },
  {
   "cell_type": "code",
   "execution_count": 4,
   "source": [
    "my_list = [999, 333, 2, 8982, 12, 45, 77, 99, 11]\r\n",
    "for i in range(0, len(my_list)):\r\n",
    "    for x in range(0, len(my_list)-1):\r\n",
    "        if my_list[x] > my_list[x+1]:\r\n",
    "            my_list[x], my_list[x+1] = my_list[x+1],  my_list[x]\r\n",
    "        else:\r\n",
    "            continue\r\n",
    "print(my_list)"
   ],
   "outputs": [
    {
     "output_type": "stream",
     "name": "stdout",
     "text": [
      "[2, 11, 12, 45, 77, 99, 333, 999, 8982]\n"
     ]
    }
   ],
   "metadata": {}
  }
 ],
 "metadata": {
  "orig_nbformat": 4,
  "language_info": {
   "mimetype": "text/x-python",
   "nbconvert_exporter": "python",
   "name": "python",
   "pygments_lexer": "ipython2",
   "version": "2.7.17",
   "file_extension": ".py",
   "codemirror_mode": {
    "version": 2,
    "name": "ipython"
   }
  },
  "kernelspec": {
   "name": "python3",
   "display_name": "Python 2.7.17 64-bit"
  },
  "interpreter": {
   "hash": "5c3b02fa24688d32a1d09351b7f8eac82a87272ad081601c73caead00a8e1fc4"
  }
 },
 "nbformat": 4,
 "nbformat_minor": 2
}