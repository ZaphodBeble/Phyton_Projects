{
 "cells": [
  {
   "cell_type": "code",
   "execution_count": 1,
   "source": [
    "#Aynı zamanda hem 2'ye hem 4'e hem de 5'e bölünebilen sayılara\r\n",
    "# xyz sayısı diyelim. Hem 2'ye hem de 5'e bölünebilen sayılar\r\n",
    "# ise abc sayısı olsun. 100 ile 100.000 arasındaki xyz sayılarından\r\n",
    "# kaç tanesi aynı zamanda abc sayısıdır?\r\n",
    "\r\n",
    "xyz=[i for i in range(100, 100001) if i%5==0 and i%4==0]\r\n",
    "abc=[i for i in range(100, 100001) if i%2==0 and i%5==0]\r\n",
    "check=len(set(xyz).intersection(set(abc)))\r\n",
    "print(check)"
   ],
   "outputs": [
    {
     "output_type": "stream",
     "name": "stdout",
     "text": [
      "4996\n"
     ]
    }
   ],
   "metadata": {}
  },
  {
   "cell_type": "code",
   "execution_count": 1,
   "source": [
    "sayilar = list(range(100, 100001))\r\n",
    "xyz = []\r\n",
    "abc = []\r\n",
    "for i in sayilar:\r\n",
    "    if i % 4 == 0 and i % 5 == 0:\r\n",
    "        xyz.append(i)\r\n",
    "        count_xyz = len(xyz)\r\n",
    "for i in sayilar:\r\n",
    "    if i % 2 == 0 and i % 5 == 0:\r\n",
    "        abc.append(i)\r\n",
    "check=len(set(xyz).intersection(set(abc)))\r\n",
    "print(check)"
   ],
   "outputs": [
    {
     "output_type": "stream",
     "name": "stdout",
     "text": [
      "4996\n"
     ]
    }
   ],
   "metadata": {}
  }
 ],
 "metadata": {
  "orig_nbformat": 4,
  "language_info": {
   "mimetype": "text/x-python",
   "nbconvert_exporter": "python",
   "name": "python",
   "pygments_lexer": "ipython2",
   "version": "2.7.17",
   "file_extension": ".py",
   "codemirror_mode": {
    "version": 2,
    "name": "ipython"
   }
  },
  "kernelspec": {
   "name": "python3",
   "display_name": "Python 2.7.17 64-bit"
  },
  "interpreter": {
   "hash": "5c3b02fa24688d32a1d09351b7f8eac82a87272ad081601c73caead00a8e1fc4"
  }
 },
 "nbformat": 4,
 "nbformat_minor": 2
}