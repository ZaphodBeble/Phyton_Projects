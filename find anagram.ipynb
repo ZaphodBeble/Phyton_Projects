{
 "cells": [
  {
   "cell_type": "code",
   "execution_count": 8,
   "source": [
    "#Given a list of strings, group anagrams together.\r\n",
    "\r\n",
    "\r\n",
    "anagrams = {}\r\n",
    "words = [\"eat\", \"tea\", \"tan\", \"ate\", \"nat\", \"bat\"]\r\n",
    "for word in words:\r\n",
    "    sorted_word = \"\".join(sorted(word))\r\n",
    "    print(sorted_word)\r\n",
    "    if sorted_word in anagrams:\r\n",
    "        anagrams[sorted_word].append(word)\r\n",
    "    else:\r\n",
    "        anagrams[sorted_word] = [word]\r\n",
    "print(list(anagrams.values()))"
   ],
   "outputs": [
    {
     "output_type": "stream",
     "name": "stdout",
     "text": [
      "aet\n",
      "aet\n",
      "ant\n",
      "aet\n",
      "ant\n",
      "abt\n",
      "[['tan', 'nat'], ['bat'], ['eat', 'tea', 'ate']]\n"
     ]
    }
   ],
   "metadata": {}
  },
  {
   "cell_type": "code",
   "execution_count": null,
   "source": [
    "anagrams = {}\r\n",
    "words = [\"eat\", \"tea\", \"tan\", \"ate\", \"nat\", \"bat\"]\r\n",
    "for word in words:\r\n",
    "    sorted_word = \"\".join(sorted(word))\r\n",
    "    print(sorted_word)\r\n",
    "    if sorted_word and sorted_word:\r\n",
    "        anagrams[sorted_word].append(word)\r\n",
    "    else:\r\n",
    "        anagrams[sorted_word] = [word]\r\n",
    "print(list(anagrams.values()))"
   ],
   "outputs": [],
   "metadata": {}
  },
  {
   "cell_type": "code",
   "execution_count": null,
   "source": [
    "def converter_time(input_seconds):\r\n",
    "    if input_seconds.strip().isdigit():\r\n",
    "        number=int(input_seconds)\r\n",
    "        hour=number//3600\r\n",
    "        minute=(number%3600)//60\r\n",
    "        second=(number%3600)%60\r\n",
    "        print(f\"{number} seconds are equal to {hour} hours {minute} minutes and {second} seconds.\")\r\n",
    "    else:\r\n",
    "        print(\"It is an invalid entry.\")\r\n",
    "sec_total=input(\"enter a total number of second: \")\r\n",
    "converter_time(sec_total)"
   ],
   "outputs": [],
   "metadata": {}
  }
 ],
 "metadata": {
  "orig_nbformat": 4,
  "language_info": {
   "mimetype": "text/x-python",
   "nbconvert_exporter": "python",
   "name": "python",
   "pygments_lexer": "ipython2",
   "version": "2.7.17",
   "file_extension": ".py",
   "codemirror_mode": {
    "version": 2,
    "name": "ipython"
   }
  },
  "kernelspec": {
   "name": "python3",
   "display_name": "Python 2.7.17 64-bit"
  },
  "interpreter": {
   "hash": "5c3b02fa24688d32a1d09351b7f8eac82a87272ad081601c73caead00a8e1fc4"
  }
 },
 "nbformat": 4,
 "nbformat_minor": 2
}