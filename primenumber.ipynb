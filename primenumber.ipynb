{
 "cells": [
  {
   "cell_type": "code",
   "execution_count": null,
   "source": [
    "n=int(input(\"enter a positive number: \"))\r\n",
    "count=0\r\n",
    "\r\n",
    "for i in range(1,n+1):\r\n",
    "  if n%i==0:\r\n",
    "    count +=1\r\n",
    "if (n==0) or (n==1) or (count>=3) :\r\n",
    "  print(n,\"isn't prime number\")\r\n",
    "else:\r\n",
    "  print(n,\"is a prime number\")"
   ],
   "outputs": [],
   "metadata": {}
  },
  {
   "cell_type": "code",
   "execution_count": null,
   "source": [
    "y = input(\"Enter a number > learn to is it prime number\")\r\n",
    "if y.isdigit():\r\n",
    "    x = int(y)\r\n",
    "    a = False\r\n",
    "    if x < 2:\r\n",
    "        a = True\r\n",
    "    elif x == 2:\r\n",
    "        a = False\r\n",
    "    elif x > 2:\r\n",
    "        for i in range(2, x):\r\n",
    "            if (x % i) == 0:\r\n",
    "                a = True\r\n",
    "                \r\n",
    "    if a:\r\n",
    "        print(x, \"is not a prime number\")\r\n",
    "    else:\r\n",
    "        print(x, \"is a prime number\")\r\n",
    "else:\r\n",
    "    print(\"It is an invalid entry. Don't use non-numeric, float, or negative values!\")"
   ],
   "outputs": [],
   "metadata": {}
  },
  {
   "cell_type": "code",
   "execution_count": null,
   "source": [
    "number = int(input(\"Enter a number: \"))\r\n",
    "if all (number % i != 0 for i in range(2, number)):\r\n",
    "    print(number,\"is a prime number\")                       \r\n",
    "else:\r\n",
    "    print(number,\"is not a prime number\") "
   ],
   "outputs": [],
   "metadata": {}
  },
  {
   "cell_type": "code",
   "execution_count": null,
   "source": [
    "num=int(input('Enter a number to be checked in terms of prime number: '))\r\n",
    "i=2\r\n",
    "while num>2 and i<int(num/2):\r\n",
    "  if num%i==0 and i!=num:\r\n",
    "    print(f'{num} is not a prime number')\r\n",
    "    break\r\n",
    "  else:\r\n",
    "    i+=1\r\n",
    "else:\r\n",
    "  print(f'{num} is a prime number')"
   ],
   "outputs": [],
   "metadata": {}
  },
  {
   "cell_type": "code",
   "execution_count": null,
   "source": [
    "\r\n",
    "c9158-stevie  1 minute ago\r\n",
    "num = int(input(\"Enter a number...:\"))if num > 1 :    for i in range(2,num) :        if (num % i) == 0 :            print(\"not prime\")            break    else :        print(\"prime\")else :     print(\"not prime\")"
   ],
   "outputs": [],
   "metadata": {}
  }
 ],
 "metadata": {
  "orig_nbformat": 4,
  "language_info": {
   "name": "python"
  }
 },
 "nbformat": 4,
 "nbformat_minor": 2
}