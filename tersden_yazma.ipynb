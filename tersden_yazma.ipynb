{
 "cells": [
  {
   "cell_type": "code",
   "execution_count": 8,
   "source": [
    "#Given a signed 32-bit integer x, return x with its digits reversed. If reversing x causes the value to go outside the signed 32-bit integer range [-2^31, 2^31 - 1], then return 0.\r\n",
    "#Assume the environment does not allow you to store 64-bit integers (signed or unsigned).\r\n",
    "#Example 1:\r\n",
    "#Input: x = 123\r\n",
    "#Output: 321\r\n",
    " \r\n",
    "#Example 2:\r\n",
    "#Input: x = -123\r\n",
    "#Output: -321\r\n",
    "\r\n",
    "def tersyazma(a):\r\n",
    "    if -2**32<a<2**32-1:\r\n",
    "        if a==0:\r\n",
    "            return 0\r\n",
    "        elif a<0:\r\n",
    "            return int(str(a).strip(\"-\")[::-1])*-1\r\n",
    "        else:\r\n",
    "            return int(str(a)[::-1])\r\n",
    "    else:\r\n",
    "        return 0\r\n",
    "print(tersyazma(-123))\r\n",
    "print(tersyazma(12352654))"
   ],
   "outputs": [
    {
     "output_type": "stream",
     "name": "stdout",
     "text": [
      "-321\n",
      "45625321\n"
     ]
    }
   ],
   "metadata": {}
  },
  {
   "cell_type": "code",
   "execution_count": null,
   "source": [],
   "outputs": [],
   "metadata": {}
  },
  {
   "cell_type": "code",
   "execution_count": null,
   "source": [],
   "outputs": [],
   "metadata": {}
  }
 ],
 "metadata": {
  "orig_nbformat": 4,
  "language_info": {
   "mimetype": "text/x-python",
   "nbconvert_exporter": "python",
   "name": "python",
   "pygments_lexer": "ipython2",
   "version": "2.7.17",
   "file_extension": ".py",
   "codemirror_mode": {
    "version": 2,
    "name": "ipython"
   }
  },
  "kernelspec": {
   "name": "python3",
   "display_name": "Python 2.7.17 64-bit"
  },
  "interpreter": {
   "hash": "5c3b02fa24688d32a1d09351b7f8eac82a87272ad081601c73caead00a8e1fc4"
  }
 },
 "nbformat": 4,
 "nbformat_minor": 2
}